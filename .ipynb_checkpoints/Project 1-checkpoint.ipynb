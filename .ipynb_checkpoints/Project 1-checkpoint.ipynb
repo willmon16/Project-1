{
 "cells": [
  {
   "cell_type": "markdown",
   "metadata": {},
   "source": [
    "# Project 1: Golf\n",
    "\n",
    "## William Willmon\n",
    "\n",
    "### Exercise 1 - "
   ]
  },
  {
   "cell_type": "code",
   "execution_count": 114,
   "metadata": {
    "collapsed": false
   },
   "outputs": [
    {
     "data": {
      "text/plain": [
       "[<matplotlib.lines.Line2D at 0xbadfdd8>]"
      ]
     },
     "execution_count": 114,
     "metadata": {},
     "output_type": "execute_result"
    },
    {
     "data": {
      "image/png": "[encoded data removed]",
      "text/plain": [
       "<matplotlib.figure.Figure at 0xa372978>"
      ]
     },
     "metadata": {},
     "output_type": "display_data"
    }
   ],
   "source": [
    "import math\n",
    "import numpy as np\n",
    "from matplotlib.pylab import plt\n",
    "% matplotlib inline\n",
    "\n",
    "C = 0.5 \n",
    "S0_m = 0.040\n",
    "M = 2.7/1000\n",
    "w = 1\n",
    "theta = math.pi/20\n",
    "a = 0.0\n",
    "b = 10\n",
    "N = 100\n",
    "h = a-b/N\n",
    "density = 1.225\n",
    "v0 = 3\n",
    "A = math.pi*0.02**2\n",
    "\n",
    "def f_drag(c,p,a,vel):\n",
    "    return -c*p*a*(vel**2)\n",
    "\n",
    "def acc_x(drag,m,s0_m,vel,omega):\n",
    "    return -drag/m -s0_m*vel*omega\n",
    "\n",
    "def acc_y(drag,m,s0_m,vel,omega):\n",
    "    g = 9.81\n",
    "    return -drag/m +s0_m*omega*vel - g\n",
    "\n",
    "vx = v0*math.cos(theta)\n",
    "vy = v0*math.sin(theta)\n",
    "\n",
    "\n",
    "\n",
    "vxpoints = [vx]\n",
    "vypoints = [vy]\n",
    "\n",
    "for i in range(5):\n",
    "    fx_temp = f_drag(C,density,A,vx)\n",
    "    fy_temp = f_drag(C,density,A,vy)\n",
    "    vx += h*acc_x(fx_temp,M,S0_m,vx,w)\n",
    "    vy -= h*acc_y(fy_temp,M,S0_m,vy,w)\n",
    "    vxpoints.append(vx)\n",
    "    vypoints.append(vy)\n",
    "    \n",
    "\n",
    "    \n",
    "plt.plot(vxpoints,\"g--\")\n",
    "plt.plot(vypoints)\n"
   ]
  },
  {
   "cell_type": "code",
   "execution_count": 115,
   "metadata": {
    "collapsed": false
   },
   "outputs": [
    {
     "data": {
      "text/plain": [
       "<matplotlib.text.Text at 0xd3ddfd0>"
      ]
     },
     "execution_count": 115,
     "metadata": {},
     "output_type": "execute_result"
    },
    {
     "data": {
      "image/png": "[encoded data removed]",
      "text/plain": [
       "<matplotlib.figure.Figure at 0xbf78278>"
      ]
     },
     "metadata": {},
     "output_type": "display_data"
    }
   ],
   "source": [
    "Dx = [0]\n",
    "Dy = [0]\n",
    "N = len(vxpoints)\n",
    "a = 10\n",
    "b = 0\n",
    "h = (a-b)/N\n",
    "\n",
    "sx = 0.5*(vxpoints[0])\n",
    "sy = 0.5*(vypoints[0])\n",
    "Dx.append(sx)\n",
    "Dy.append(sy)\n",
    "for k in range(N-1):\n",
    "    sx += (vxpoints[k] + vxpoints[k+1])/h\n",
    "    sy += (vypoints[k] + vypoints[k+1])/h\n",
    "    Dx.append(sx)\n",
    "    Dy.append(sy)\n",
    "      \n",
    "plt.plot(Dx,Dy)\n",
    "plt.ylim(0,1)\n",
    "plt.xlim(0,6)\n",
    "plt.xlabel(\"Distance(m)\")\n",
    "plt.ylabel(\"Height(m)\")\n",
    "plt.title(\"Ping Pong Ball\")"
   ]
  },
  {
   "cell_type": "markdown",
   "metadata": {},
   "source": [
    "### Exercise 4 - Effects of Backspin on a Basketball"
   ]
  },
  {
   "cell_type": "code",
   "execution_count": 134,
   "metadata": {
    "collapsed": false
   },
   "outputs": [
    {
     "data": {
      "text/plain": [
       "[<matplotlib.lines.Line2D at 0xea3ad68>]"
      ]
     },
     "execution_count": 134,
     "metadata": {},
     "output_type": "execute_result"
    },
    {
     "data": {
      "image/png": "[encoded data removed]",
      "text/plain": [
       "<matplotlib.figure.Figure at 0xea3a9b0>"
      ]
     },
     "metadata": {},
     "output_type": "display_data"
    }
   ],
   "source": [
    "C = 0.54\n",
    "S0_m = 0.25\n",
    "M = 0.62\n",
    "w = 1.0\n",
    "theta = math.pi/4\n",
    "a = 0.0\n",
    "b = 10\n",
    "N = 100\n",
    "h = a-b/N\n",
    "density = 1.225\n",
    "v0 = 9\n",
    "A = 0.045\n",
    "\n",
    "\n",
    "vx = v0*math.cos(theta)\n",
    "vy = v0*math.sin(theta)\n",
    "\n",
    "\n",
    "\n",
    "vxpoints = [vx]\n",
    "vypoints = [vy]\n",
    "\n",
    "for i in range(10):\n",
    "    fx_temp = f_drag(C,density,A,vx)\n",
    "    fy_temp = f_drag(C,density,A,vy)\n",
    "    vx += h*acc_x(fx_temp,M,S0_m,vx,w)\n",
    "    vy -= h*acc_y(fy_temp,M,S0_m,vy,w)\n",
    "    vxpoints.append(vx)\n",
    "    vypoints.append(vy)\n",
    "    \n",
    "\n",
    "    \n",
    "plt.plot(vxpoints,\"g--\")\n",
    "plt.plot(vypoints)"
   ]
  },
  {
   "cell_type": "code",
   "execution_count": 135,
   "metadata": {
    "collapsed": false
   },
   "outputs": [
    {
     "data": {
      "text/plain": [
       "<matplotlib.text.Text at 0xeac9eb8>"
      ]
     },
     "execution_count": 135,
     "metadata": {},
     "output_type": "execute_result"
    },
    {
     "data": {
      "image/png": "[encoded data removed]",
      "text/plain": [
       "<matplotlib.figure.Figure at 0xeaa8438>"
      ]
     },
     "metadata": {},
     "output_type": "display_data"
    }
   ],
   "source": [
    "Dx = [0]\n",
    "Dy = [0]\n",
    "N = len(vxpoints)\n",
    "a = 10\n",
    "b = 0\n",
    "h = (a-b)/N\n",
    "\n",
    "sx = 0.5*(vxpoints[0])\n",
    "sy = 0.5*(vypoints[0])\n",
    "\n",
    "Dx.append(sx)\n",
    "Dy.append(sy)\n",
    "\n",
    "for k in range(N-1):\n",
    "    sx += (vxpoints[k] + vxpoints[k+1])/h\n",
    "    sy += (vypoints[k] + vypoints[k+1])/h\n",
    "    Dx.append(sx)\n",
    "    Dy.append(sy)\n",
    "      \n",
    "plt.plot(Dx,Dy)\n",
    "plt.ylim(0,25)\n",
    "#plt.xlim(0,6)\n",
    "plt.xlabel(\"Distance(m)\")\n",
    "plt.ylabel(\"Height(m)\")\n",
    "plt.title(\"Basketball\")"
   ]
  },
  {
   "cell_type": "code",
   "execution_count": null,
   "metadata": {
    "collapsed": true
   },
   "outputs": [],
   "source": []
  }
 ],
 "metadata": {
  "kernelspec": {
   "display_name": "Python 3",
   "language": "python",
   "name": "python3"
  },
  "language_info": {
   "codemirror_mode": {
    "name": "ipython",
    "version": 3
   },
   "file_extension": ".py",
   "mimetype": "text/x-python",
   "name": "python",
   "nbconvert_exporter": "python",
   "pygments_lexer": "ipython3",
   "version": "3.4.4"
  }
 },
 "nbformat": 4,
 "nbformat_minor": 0
}
