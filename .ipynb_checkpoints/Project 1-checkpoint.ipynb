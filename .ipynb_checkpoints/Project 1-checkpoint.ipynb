{
 "cells": [
  {
   "cell_type": "markdown",
   "metadata": {},
   "source": [
    "# Project 1: Golf\n",
    "\n",
    "## William Willmon\n",
    "\n",
    "### Exercise 1 - "
   ]
  },
  {
   "cell_type": "code",
   "execution_count": null,
   "metadata": {
    "collapsed": true
   },
   "outputs": [],
   "source": [
    "import math\n",
    "\n",
    "C = 0.5 \n",
    "S0_m = 0.040\n",
    "m = \n",
    "w = math.pi*2\n",
    "g = 9.81\n",
    "theta = math.pi/20\n",
    "\n",
    "def f_drag(c,p,a,vel):\n",
    "    return -c*p*a*(vel**2)\n",
    "\n",
    "def acc_x(drag,m,s0_m,vel):\n",
    "    return -drag/m -s0_m*vel\n",
    "\n",
    "def acc_y(drag,m,s0_m,vel,g):\n",
    "    return -drag/m -s0_m*vel - g\n",
    "\n",
    "vx = v0*math.cos(theta)\n",
    "vy = v0*math.sin(theta)\n",
    "\n"
   ]
  }
 ],
 "metadata": {
  "kernelspec": {
   "display_name": "Python 3",
   "language": "python",
   "name": "python3"
  },
  "language_info": {
   "codemirror_mode": {
    "name": "ipython",
    "version": 3
   },
   "file_extension": ".py",
   "mimetype": "text/x-python",
   "name": "python",
   "nbconvert_exporter": "python",
   "pygments_lexer": "ipython3",
   "version": "3.4.4"
  }
 },
 "nbformat": 4,
 "nbformat_minor": 0
}
